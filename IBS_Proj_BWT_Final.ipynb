{
 "cells": [
  {
   "cell_type": "code",
   "execution_count": 1,
   "metadata": {},
   "outputs": [],
   "source": [
    "import numpy as np"
   ]
  },
  {
   "cell_type": "code",
   "execution_count": 2,
   "metadata": {},
   "outputs": [
    {
     "name": "stdin",
     "output_type": "stream",
     "text": [
      "Enter String:  panamabananas\n"
     ]
    },
    {
     "name": "stdout",
     "output_type": "stream",
     "text": [
      "Length of sequence is : 14\n"
     ]
    }
   ],
   "source": [
    "word = input(\"Enter String: \") +\"$\"\n",
    "print(f\"Length of sequence is : {len(word)}\")"
   ]
  },
  {
   "cell_type": "code",
   "execution_count": 3,
   "metadata": {},
   "outputs": [
    {
     "name": "stdout",
     "output_type": "stream",
     "text": [
      "['$panamabananas', 's$panamabanana', 'as$panamabanan', 'nas$panamabana', 'anas$panamaban', 'nanas$panamaba', 'ananas$panamab', 'bananas$panama', 'abananas$panam', 'mabananas$pana', 'amabananas$pan', 'namabananas$pa', 'anamabananas$p', 'panamabananas$']\n"
     ]
    }
   ],
   "source": [
    "l = len(word)\n",
    "lis = []\n",
    "for i in range(l):\n",
    "    word = word[-1] + word[:-1]\n",
    "    lis.append(word)\n",
    "print(lis)"
   ]
  },
  {
   "cell_type": "code",
   "execution_count": 4,
   "metadata": {},
   "outputs": [],
   "source": [
    "def bub_sort(seq):\n",
    "    for i in range(0, len(seq) - 1):\n",
    "        for j in range(0, len(seq) - 1):\n",
    "            if (seq[j] > seq[j+1]):        # Check whether 2 strings appear in Lexicographic Order\n",
    "                temp = seq[j]               # Swapping of adjacent kmers if they don't appear in lexicographic order\n",
    "                seq[j] = seq[j + 1]\n",
    "                seq[j + 1] = temp          \n",
    "    return seq"
   ]
  },
  {
   "cell_type": "code",
   "execution_count": 5,
   "metadata": {},
   "outputs": [],
   "source": [
    "def burrow_wheeler(seq):\n",
    "    bwt_str = \"\"\n",
    "    for i in range(len(seq)):\n",
    "        bwt_str += seq[i][-1]\n",
    "        \n",
    "    return bwt_str"
   ]
  },
  {
   "cell_type": "code",
   "execution_count": 6,
   "metadata": {},
   "outputs": [
    {
     "name": "stdout",
     "output_type": "stream",
     "text": [
      "List in lexicographic order is : \n",
      "['$panamabananas', 'abananas$panam', 'amabananas$pan', 'anamabananas$p', 'ananas$panamab', 'anas$panamaban', 'as$panamabanan', 'bananas$panama', 'mabananas$pana', 'namabananas$pa', 'nanas$panamaba', 'nas$panamabana', 'panamabananas$', 's$panamabanana']\n"
     ]
    }
   ],
   "source": [
    "print(f\"List in lexicographic order is : \\n{bub_sort(lis)}\")"
   ]
  },
  {
   "cell_type": "code",
   "execution_count": 7,
   "metadata": {},
   "outputs": [
    {
     "name": "stdout",
     "output_type": "stream",
     "text": [
      "Burrow Wheeler transform of panamabananas$ yields: smnpbnnaaaaa$a\n"
     ]
    }
   ],
   "source": [
    "bwtseq = burrow_wheeler(lis)\n",
    "print(f\"Burrow Wheeler transform of {word} yields: {bwtseq}\")"
   ]
  },
  {
   "cell_type": "code",
   "execution_count": 8,
   "metadata": {},
   "outputs": [],
   "source": [
    "def compress(seq):\n",
    "    comp = \"\"\n",
    "    count = 1\n",
    "    for i in range(1,len(seq)):\n",
    "        if(seq[i]==seq[i-1]):\n",
    "            count += 1\n",
    "        else:\n",
    "            comp += str(count) + seq[i-1]\n",
    "            count = 1\n",
    "        if(i==len(seq)-1):\n",
    "            comp += str(count) + seq[i]\n",
    "            \n",
    "    return comp"
   ]
  },
  {
   "cell_type": "code",
   "execution_count": 9,
   "metadata": {},
   "outputs": [
    {
     "name": "stdout",
     "output_type": "stream",
     "text": [
      "Compressed BWT of smnpbnnaaaaa$a yields: 1s1m1n1p1b2n5a1$1a\n",
      "Length of Compressed Sequence: 18\n"
     ]
    }
   ],
   "source": [
    "compressed = compress(bwtseq)\n",
    "print(f\"Compressed BWT of {bwtseq} yields: {compressed}\")\n",
    "print(f\"Length of Compressed Sequence: {len(compressed)}\")"
   ]
  },
  {
   "cell_type": "code",
   "execution_count": 10,
   "metadata": {},
   "outputs": [],
   "source": [
    "def expand(comp_str):\n",
    "    exp = \"\"\n",
    "    count = 0\n",
    "    start_ind = 0\n",
    "    end_ind = 0\n",
    "    \n",
    "    for i in range(len(comp_str)):\n",
    "        start_ind = i\n",
    "        while(comp_str[i].isdigit()):\n",
    "            i += 1\n",
    "            if(comp_str[i].isdigit()== False):\n",
    "                end_ind = i\n",
    "                count = int(comp_str[start_ind:end_ind])\n",
    "                for j in range(count):\n",
    "                    exp += comp_str[i]\n",
    "    return exp"
   ]
  },
  {
   "cell_type": "code",
   "execution_count": 11,
   "metadata": {},
   "outputs": [
    {
     "name": "stdout",
     "output_type": "stream",
     "text": [
      "Expanded Version of 1s1m1n1p1b2n5a1$1a gives: smnpbnnaaaaa$a\n",
      "Length of expanded sequence is : 14\n"
     ]
    }
   ],
   "source": [
    "expanded_str = expand(compressed)\n",
    "print(f\"Expanded Version of {compressed} gives: {expanded_str}\")\n",
    "print(f\"Length of expanded sequence is : {len(expanded_str)}\")"
   ]
  },
  {
   "cell_type": "markdown",
   "metadata": {},
   "source": [
    "### Inverse Burrow Wheeler"
   ]
  },
  {
   "cell_type": "code",
   "execution_count": 12,
   "metadata": {},
   "outputs": [],
   "source": [
    "def linsearch(seq,char,ind_arr):\n",
    "    ind = -1 #incase not found\n",
    "    for i in range(len(seq)):\n",
    "        if(seq[i]==char and i not in ind_arr):\n",
    "            ind = i\n",
    "            break\n",
    "            \n",
    "    return ind"
   ]
  },
  {
   "cell_type": "code",
   "execution_count": 13,
   "metadata": {},
   "outputs": [],
   "source": [
    "def inv_burrow_wheeler(bwt_seq):\n",
    "    print(f\"Burrow wheeler : {bwt_seq}\")\n",
    "    ind = linsearch(bwt_seq,\"$\",[])\n",
    "    print(f\"Index  = {ind}\")\n",
    "    chars = sorted(bwt_seq)\n",
    "    print(f\"Chars : {chars}\\n\")\n",
    "    n = len(bwt_seq[:])\n",
    "    recons_seq = \"\"\n",
    "    traversed_indexes = np.zeros((n,1))\n",
    "    for i in range(n-1):\n",
    "        recons_seq += chars[ind]\n",
    "        #print(f\"Reconstructed sequence: {recons_seq}\")\n",
    "        ind = linsearch(bwt_seq,chars[ind],traversed_indexes)\n",
    "        #print(f\"Index  = {ind}\")\n",
    "        traversed_indexes[i] = ind\n",
    "        \n",
    "    return recons_seq"
   ]
  },
  {
   "cell_type": "code",
   "execution_count": 14,
   "metadata": {},
   "outputs": [
    {
     "name": "stdout",
     "output_type": "stream",
     "text": [
      "Burrow wheeler : smnpbnnaaaaa$a\n",
      "Index  = 12\n",
      "Chars : ['$', 'a', 'a', 'a', 'a', 'a', 'a', 'b', 'm', 'n', 'n', 'n', 'p', 's']\n",
      "\n",
      "Inverse Burrow Wheeler transform of smnpbnnaaaaa$a yields: pabamanananas$\n"
     ]
    }
   ],
   "source": [
    "print(f\"Inverse Burrow Wheeler transform of {bwtseq} yields: {inv_burrow_wheeler(bwtseq)}$\")"
   ]
  },
  {
   "cell_type": "code",
   "execution_count": 15,
   "metadata": {},
   "outputs": [],
   "source": [
    "def counter(arr):\n",
    "    ind = []                               # array containing indices\n",
    "    finStr = []                           # final list of unique\n",
    "    for i in range(len(arr)):\n",
    "        ch = arr[:i+1]                   \n",
    "        val = ch.count(arr[i])\n",
    "        finStr.append(arr[i] + str(val))\n",
    "            \n",
    "    return finStr"
   ]
  },
  {
   "cell_type": "code",
   "execution_count": 16,
   "metadata": {},
   "outputs": [],
   "source": [
    "def filt(lis):\n",
    "    filt_str = \"\"\n",
    "    for i in range(len(lis)):\n",
    "        for j in range(len(lis[i])):\n",
    "            if(lis[i][j].isalpha()):\n",
    "                filt_str += lis[i][j]\n",
    "        else: \n",
    "            continue\n",
    "                       \n",
    "    return filt_str"
   ]
  },
  {
   "cell_type": "code",
   "execution_count": 17,
   "metadata": {},
   "outputs": [],
   "source": [
    "def inv_burrow_wheeler_exact(bwt_seq):\n",
    "    print(f\"Burrow wheeler : {bwt_seq}\")\n",
    "    unq = counter(bwt_seq)\n",
    "    print(f\"Unique characters:{unq}\")\n",
    "    ind = linsearch(unq,\"$1\",[])\n",
    "    chars = sorted(unq)\n",
    "    print(f\"Chars : {chars}\\n\")\n",
    "    n = len(unq[:])\n",
    "    recons_seq = \"\"\n",
    "    for i in range(n-1):\n",
    "        recons_seq += chars[ind]\n",
    "        #print(f\"Reconstructed sequence: {recons_seq}\")\n",
    "        ind = linsearch(unq,chars[ind],[])\n",
    "        #print(f\"Index  = {ind}\")\n",
    "    \n",
    "    \n",
    "    return filt(recons_seq)"
   ]
  },
  {
   "cell_type": "code",
   "execution_count": 18,
   "metadata": {},
   "outputs": [
    {
     "name": "stdout",
     "output_type": "stream",
     "text": [
      "Burrow wheeler : smnpbnnaaaaa$a\n",
      "Unique characters:['s1', 'm1', 'n1', 'p1', 'b1', 'n2', 'n3', 'a1', 'a2', 'a3', 'a4', 'a5', '$1', 'a6']\n",
      "Chars : ['$1', 'a1', 'a2', 'a3', 'a4', 'a5', 'a6', 'b1', 'm1', 'n1', 'n2', 'n3', 'p1', 's1']\n",
      "\n",
      "Inverse Burrow Wheeler transform of smnpbnnaaaaa$a yields: panamabananas$\n"
     ]
    }
   ],
   "source": [
    "print(f\"Inverse Burrow Wheeler transform of {bwtseq} yields: {inv_burrow_wheeler_exact(bwtseq)}$\")"
   ]
  },
  {
   "cell_type": "code",
   "execution_count": 19,
   "metadata": {},
   "outputs": [],
   "source": [
    "def ibwt2(seq):\n",
    "    matrix = [''] * len(seq)\n",
    "    for _ in seq:\n",
    "        matrix = sorted(i + j for i, j in zip(seq, matrix))\n",
    "    return matrix[0]"
   ]
  },
  {
   "cell_type": "code",
   "execution_count": 20,
   "metadata": {},
   "outputs": [
    {
     "name": "stdout",
     "output_type": "stream",
     "text": [
      "Inverse Burrow Wheeler transform of smnpbnnaaaaa$a yields: $panamabananas\n",
      "14\n"
     ]
    }
   ],
   "source": [
    "print(f\"Inverse Burrow Wheeler transform of {bwtseq} yields: {ibwt2(expanded_str)}\")\n",
    "print(len(ibwt2(expanded_str)))"
   ]
  },
  {
   "cell_type": "code",
   "execution_count": 21,
   "metadata": {},
   "outputs": [],
   "source": [
    "def k_meriser(seq,k): \n",
    "    stripped = ([(seq[i:i + k]) for i in range(0, len(seq)- k + 1)])\n",
    "    return stripped"
   ]
  },
  {
   "cell_type": "code",
   "execution_count": 22,
   "metadata": {},
   "outputs": [
    {
     "name": "stdout",
     "output_type": "stream",
     "text": [
      "Unsorted List of K-mers is: \n",
      "['gcgct', 'cgctg', 'gctgg', 'ctggt', 'tggtc', 'ggtca', 'gtcag', 'tcagc', 'cagct', 'agcta', 'gctaa', 'ctaat', 'taata', 'aatag', 'ataga', 'tagac', 'agact', 'gactc', 'actcg', 'ctcgc', 'tcgcg', 'cgcgg', 'gcggc', 'cggcc', 'ggcct', 'gcctc', 'cctcg', 'ctcgc', 'tcgct', 'cgctc', 'gctcc', 'ctcca', 'tccaa', 'ccaat', 'caatt', 'aattg', 'attgg', 'ttgga', 'tggac', 'ggact', 'gacta', 'actag', 'ctagc', 'tagca', 'agcag', 'gcaga', 'cagac', 'agacc', 'gacct', 'accta', 'cctag', 'ctagc', 'tagct', 'agctc', 'gctcc', 'ctccg', 'tccgg', 'ccggt', 'cggtg', 'ggtgg', 'gtggt', 'tggta', 'ggtaa', 'gtaaa', 'taaac', 'aaacg', 'aacgt', 'acgta', 'cgtaa', 'gtaat', 'taata', 'aatat', 'atatt', 'tattc', 'attcg', 'ttcga', 'tcgat', 'cgatt', 'gattt', 'attta', 'tttat', 'ttatt', 'tattc', 'attcg', 'ttcgc', 'tcgca', 'cgcaa', 'gcaac', 'caaca', 'aacac', 'acaca', 'cacac', 'acacc', 'cacct', 'acctg', 'cctgc']\n",
      "Length of sequence: 100\n",
      "number of k-mers generated: 96\n"
     ]
    }
   ],
   "source": [
    "seq = \"gcgctggtcagctaatagactcgcggcctcgctccaattggactagcagacctagctccggtggtaaacgtaatattcgatttattcgcaacacacctgc\"\n",
    "n_mer_len = 5\n",
    "three_mers = k_meriser(seq,n_mer_len)\n",
    "print(f\"Unsorted List of K-mers is: \\n{three_mers}\")\n",
    "print(f\"Length of sequence: {len(seq)}\")\n",
    "print(f\"number of k-mers generated: {len(three_mers)}\")"
   ]
  },
  {
   "cell_type": "code",
   "execution_count": 23,
   "metadata": {},
   "outputs": [
    {
     "name": "stdout",
     "output_type": "stream",
     "text": [
      "k-mer \t bwt \t hammming\n",
      "gcgct \t ggtcc   34.0\n",
      "cgctg \t ggtcc   42.0\n",
      "gctgg \t gggtc   34.0\n",
      "ctggt \t ttggc   34.0\n",
      "tggtc \t ttggc   26.0\n",
      "ggtca \t ctagg   46.0\n",
      "gtcag \t ctagg   12.0\n",
      "tcagc \t ctgac   46.0\n",
      "cagct \t ctgac   38.0\n",
      "agcta \t tagac   50.0\n",
      "gctaa \t tagac   30.0\n",
      "ctaat \t tatca   76.0\n",
      "taata \t ttaaa   38.0\n",
      "aatag \t gtaaa   50.0\n",
      "ataga \t gtaaa   12.0\n",
      "tagac \t gtaac   38.0\n",
      "agact \t gtaac   38.0\n",
      "gactc \t gtacc   38.0\n",
      "actcg \t gtacc   46.0\n",
      "ctcgc \t gtccc   8.0\n",
      "tcgcg \t tgccg   8.0\n",
      "cgcgg \t gggcc   16.0\n",
      "gcggc \t gggcc   8.0\n",
      "cggcc \t gccgc   16.0\n",
      "ggcct \t gcgtc   42.0\n",
      "gcctc \t gtccc   34.0\n",
      "cctcg \t gtccc   42.0\n",
      "ctcgc \t gtccc   8.0\n",
      "tcgct \t tgctc   42.0\n",
      "cgctc \t tcgcc   42.0\n",
      "gctcc \t tcgcc   26.0\n",
      "ctcca \t cctac   38.0\n",
      "tccaa \t cacta   38.0\n",
      "ccaat \t cacta   42.0\n",
      "caatt \t catta   38.0\n",
      "aattg \t gatta   12.0\n",
      "attgg \t ggtta   38.0\n",
      "ttgga \t ggtta   52.0\n",
      "tggac \t gagtc   38.0\n",
      "ggact \t gagtc   46.0\n",
      "gacta \t gtaac   42.0\n",
      "actag \t gtaac   46.0\n",
      "ctagc \t tgcac   38.0\n",
      "tagca \t tcgaa   4.0\n",
      "agcag \t cggaa   12.0\n",
      "gcaga \t cggaa   20.0\n",
      "cagac \t gccaa   12.0\n",
      "agacc \t gccaa   16.0\n",
      "gacct \t gactc   34.0\n",
      "accta \t taacc   42.0\n",
      "cctag \t tgcac   42.0\n",
      "ctagc \t tgcac   38.0\n",
      "tagct \t tgatc   46.0\n",
      "agctc \t ctgac   38.0\n",
      "gctcc \t tcgcc   26.0\n",
      "ctccg \t tcgcc   42.0\n",
      "tccgg \t tccgg   0.0\n",
      "ccggt \t tccgg   34.0\n",
      "cggtg \t gtcgg   34.0\n",
      "ggtgg \t tgggg   26.0\n",
      "gtggt \t ttggg   26.0\n",
      "tggta \t ttgga   26.0\n",
      "ggtaa \t taagg   50.0\n",
      "gtaaa \t taaag   38.0\n",
      "taaac \t taaac   0.0\n",
      "aaacg \t gaaac   12.0\n",
      "aacgt \t taacg   38.0\n",
      "acgta \t taacg   50.0\n",
      "cgtaa \t taacg   50.0\n",
      "gtaat \t tatga   76.0\n",
      "taata \t ttaaa   38.0\n",
      "aatat \t ttaaa   76.0\n",
      "atatt \t tttaa   76.0\n",
      "tattc \t ttcta   38.0\n",
      "attcg \t gtcta   46.0\n",
      "ttcga \t gtcta   26.0\n",
      "tcgat \t gtcta   72.0\n",
      "cgatt \t gtcta   38.0\n",
      "gattt \t gttta   38.0\n",
      "attta \t tatta   38.0\n",
      "tttat \t tttta   38.0\n",
      "ttatt \t tttta   38.0\n",
      "tattc \t ttcta   38.0\n",
      "attcg \t gtcta   46.0\n",
      "ttcgc \t tgctc   26.0\n",
      "tcgca \t cgtca   34.0\n",
      "cgcaa \t cagac   12.0\n",
      "gcaac \t cagac   12.0\n",
      "caaca \t ccaaa   4.0\n",
      "aacac \t ccaaa   8.0\n",
      "acaca \t ccaaa   4.0\n",
      "cacac \t cccaa   4.0\n",
      "acacc \t cccaa   8.0\n",
      "cacct \t ctacc   38.0\n",
      "acctg \t gactc   12.0\n",
      "cctgc \t gcctc   34.0\n"
     ]
    }
   ],
   "source": [
    "print(\"k-mer \\t bwt \\t hammming\")\n",
    "for i in range(len(three_mers)):\n",
    "    word = three_mers[i]\n",
    "    l = len(word)\n",
    "    lis = []\n",
    "    for j in range(l):\n",
    "        word = word[-1] + word[:-1]\n",
    "        lis.append(word)\n",
    "    \n",
    "    bwt_kmer = burrow_wheeler(bub_sort(lis))\n",
    "    hamming = np.zeros(len(three_mers))\n",
    "    for k in range(l):\n",
    "        hamming[i] += abs(ord(word[k]) - ord(bwt_kmer[k]))\n",
    "    print(word,\"\\t\",bwt_kmer,\" \", hamming[i])"
   ]
  },
  {
   "cell_type": "code",
   "execution_count": 24,
   "metadata": {},
   "outputs": [
    {
     "name": "stdout",
     "output_type": "stream",
     "text": [
      "k-mer \t bwt \t hammming\n",
      "gcgct$ \t tgg$cc   160.0\n",
      "cgctg$ \t g$gtcc   142.0\n",
      "gctgg$ \t ggg$tc   160.0\n",
      "ctggt$ \t t$tggc   186.0\n",
      "tggtc$ \t cttgg$   60.0\n",
      "ggtca$ \t act$gg   146.0\n",
      "gtcag$ \t gcta$g   168.0\n",
      "tcagc$ \t ccgta$   38.0\n",
      "cagct$ \t tc$gac   172.0\n",
      "agcta$ \t at$gac   152.0\n",
      "gctaa$ \t aatg$c   138.0\n",
      "ctaat$ \t tta$ac   160.0\n",
      "taata$ \t attaa$   76.0\n",
      "aatag$ \t g$taaa   134.0\n",
      "ataga$ \t agt$aa   160.0\n",
      "tagac$ \t cgtaa$   38.0\n",
      "agact$ \t tg$aac   164.0\n",
      "gactc$ \t cgta$c   172.0\n",
      "actcg$ \t g$tacc   138.0\n",
      "ctcgc$ \t cgt$cc   160.0\n",
      "tcgcg$ \t ggtcc$   34.0\n",
      "cgcgg$ \t g$ggcc   142.0\n",
      "gcggc$ \t cggg$c   134.0\n",
      "cggcc$ \t ccg$gc   134.0\n",
      "ggcct$ \t tgcg$c   160.0\n",
      "gcctc$ \t ctgc$c   168.0\n",
      "cctcg$ \t g$tccc   134.0\n",
      "ctcgc$ \t cgt$cc   160.0\n",
      "tcgct$ \t ttgcc$   34.0\n",
      "cgctc$ \t ct$gcc   152.0\n",
      "gctcc$ \t cctg$c   134.0\n",
      "ctcca$ \t acct$c   160.0\n",
      "tccaa$ \t aacct$   42.0\n",
      "ccaat$ \t tcac$a   160.0\n",
      "caatt$ \t tca$ta   160.0\n",
      "aattg$ \t g$atta   160.0\n",
      "attgg$ \t g$gtta   186.0\n",
      "ttgga$ \t aggtt$   64.0\n",
      "tggac$ \t cgagt$   46.0\n",
      "ggact$ \t tgag$c   160.0\n",
      "gacta$ \t atga$c   172.0\n",
      "actag$ \t g$taac   138.0\n",
      "ctagc$ \t ctg$ac   138.0\n",
      "tagca$ \t actga$   38.0\n",
      "agcag$ \t gc$gaa   146.0\n",
      "gcaga$ \t agcga$   12.0\n",
      "cagac$ \t cgca$a   134.0\n",
      "agacc$ \t cg$caa   126.0\n",
      "gacct$ \t tgac$c   164.0\n",
      "accta$ \t at$acc   164.0\n",
      "cctag$ \t gt$cac   172.0\n",
      "ctagc$ \t ctg$ac   138.0\n",
      "tagct$ \t ttgac$   38.0\n",
      "agctc$ \t c$tgac   164.0\n",
      "gctcc$ \t cctg$c   134.0\n",
      "ctccg$ \t gtc$cc   134.0\n",
      "tccgg$ \t gtcgc$   34.0\n",
      "ccggt$ \t t$ccgg   168.0\n",
      "cggtg$ \t g$tcgg   168.0\n",
      "ggtgg$ \t ggt$gg   134.0\n",
      "gtggt$ \t ttg$gg   160.0\n",
      "tggta$ \t attgg$   64.0\n",
      "ggtaa$ \t aat$gg   146.0\n",
      "gtaaa$ \t aaat$g   172.0\n",
      "taaac$ \t ctaaa$   38.0\n",
      "aaacg$ \t g$aaac   138.0\n",
      "aacgt$ \t t$aacg   172.0\n",
      "acgta$ \t at$acg   172.0\n",
      "cgtaa$ \t aat$cg   138.0\n",
      "gtaat$ \t tta$ag   160.0\n",
      "taata$ \t attaa$   76.0\n",
      "aatat$ \t t$taaa   160.0\n",
      "atatt$ \t t$ttaa   198.0\n",
      "tattc$ \t ctt$ta   194.0\n",
      "attcg$ \t g$tcta   160.0\n",
      "ttcga$ \t agtct$   72.0\n",
      "tcgat$ \t tgtca$   38.0\n",
      "cgatt$ \t tg$cta   156.0\n",
      "gattt$ \t tg$tta   160.0\n",
      "attta$ \t at$tta   160.0\n",
      "tttat$ \t ttatt$   38.0\n",
      "ttatt$ \t tttta$   38.0\n",
      "tattc$ \t ctt$ta   194.0\n",
      "attcg$ \t g$tcta   160.0\n",
      "ttcgc$ \t cgtct$   68.0\n",
      "tcgca$ \t acgtc$   38.0\n",
      "cgcaa$ \t aacg$c   138.0\n",
      "gcaac$ \t ccaag$   8.0\n",
      "caaca$ \t accaa$   8.0\n",
      "aacac$ \t c$caaa   126.0\n",
      "acaca$ \t acc$aa   126.0\n",
      "cacac$ \t cccaa$   4.0\n",
      "acacc$ \t c$ccaa   130.0\n",
      "cacct$ \t tc$acc   164.0\n",
      "acctg$ \t g$actc   164.0\n",
      "cctgc$ \t cg$ctc   168.0\n"
     ]
    }
   ],
   "source": [
    "print(\"k-mer \\t bwt \\t hammming\")\n",
    "for i in range(len(three_mers)):\n",
    "    word = three_mers[i] + \"$\"\n",
    "    l = len(word)\n",
    "    lis = []\n",
    "    for j in range(l):\n",
    "        word = word[-1] + word[:-1]\n",
    "        lis.append(word)\n",
    "    \n",
    "    bwt_kmer = burrow_wheeler(bub_sort(lis))\n",
    "    hamming = np.zeros(len(three_mers))\n",
    "    for k in range(l):\n",
    "        hamming[i] += abs(ord(word[k]) - ord(bwt_kmer[k]))\n",
    "    print(word,\"\\t\",bwt_kmer,\" \", hamming[i])"
   ]
  }
 ],
 "metadata": {
  "kernelspec": {
   "display_name": "Python 3",
   "language": "python",
   "name": "python3"
  },
  "language_info": {
   "codemirror_mode": {
    "name": "ipython",
    "version": 3
   },
   "file_extension": ".py",
   "mimetype": "text/x-python",
   "name": "python",
   "nbconvert_exporter": "python",
   "pygments_lexer": "ipython3",
   "version": "3.8.5"
  }
 },
 "nbformat": 4,
 "nbformat_minor": 4
}
